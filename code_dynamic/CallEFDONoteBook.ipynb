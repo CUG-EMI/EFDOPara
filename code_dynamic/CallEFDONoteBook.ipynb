{
 "cells": [
  {
   "cell_type": "code",
   "execution_count": null,
   "metadata": {},
   "outputs": [
    {
     "name": "stdout",
     "output_type": "stream",
     "text": [
      "../data/TrainDataSet.mat\n",
      "model_path /home/em/weiyangliao/NeuralOperatorCode_20241101/code/../temp_model/EFDO_config_2_epoch_500.pkl\n"
     ]
    }
   ],
   "source": [
    "import sys\n",
    "import os\n",
    "import numpy as np\n",
    "import torch\n",
    "from torchinfo import summary\n",
    "import yaml\n",
    "import sys\n",
    "from timeit import default_timer\n",
    "from utilities import *\n",
    "from EFDO import EFDO\n",
    "\n",
    "with open('config_EFDO.yml') as f:\n",
    "    config = yaml.full_load(f)\n",
    "cuda_id = \"cuda:\"+\"0\"\n",
    "device = torch.device(cuda_id if torch.cuda.is_available() else \"cpu\")\n",
    "item = 'EFDO_config'\n",
    "config = config[item]\n",
    "TRAIN_PATH = config['TRAIN_PATH']\n",
    "VAL_PATH   = config['VAL_PATH']\n",
    "TEST_PATH  = config['TEST_PATH']\n",
    "save_mode  = config['save_mode']\n",
    "save_step  = config['save_step']\n",
    "n_out      = config['n_out'] # rhoxy, rhoyx\n",
    "model_path = \"../model/\" + config['name'] + \"_\" + str(n_out) # save path and name of model\n",
    "model_path_temp = \"../temp_model/\" + config['name'] + \"_\" + str(n_out)\n",
    "log_path = \"../log/\" + config['name'] + \"_\" + str(n_out) + '.log'\n",
    "ntrain = config['ntrain']\n",
    "nval = config['nval']\n",
    "ntest  = config['ntest']\n",
    "batch_size = config['batch_size']\n",
    "learning_rate = config['learning_rate']\n",
    "epochs = config['epochs']\n",
    "step_size = config['step_size']\n",
    "gamma = config['gamma']\n",
    "modes = config['modes']\n",
    "width = config['width']\n",
    "s_train = config['s_train']\n",
    "r_train = config['r_train']\n",
    "s_val = config['s_val']\n",
    "r_val = config['r_val']\n",
    "s_test = config['s_test']\n",
    "r_test = config['r_test']\n",
    "layer_fno = config['layer_fno']\n",
    "layer_ufno = config['layer_ufno']\n",
    "layer_sizes = [s_train[0] * s_train[1]] + config['layer_sizes']\n",
    "act_fno   = config['act_fno']\n",
    "init_func = config['init_func']    \n",
    "patience = config['patience'] # if there is {patience} epoch that val_error is larger, early stop,\n",
    "thre_epoch = config['thre_epoch'] # condiser early stop after {thre_epoch} epochs\n",
    "print_model_flag = config['print_model_flag'] # print training model's structure and its parameters\n",
    "\n",
    "key_map0 = ['rhoxy','rhoyx'] \n",
    "key_map = key_map0[:n_out] \n",
    "print(TRAIN_PATH)\n",
    "\n",
    "# get training data  \n",
    "reader = MatReader(TRAIN_PATH)  \n",
    "x_train = reader.read_field('sig')  \n",
    "x_train = x_train[:ntrain,::r_train[0],::r_train[1]][:,:s_train[0],:s_train[1]]  \n",
    "y_train = torch.stack([reader.read_field(key_map[i])\\\n",
    "[:ntrain,::r_train[2],::r_train[3]][:,:s_train[2],:s_train[3]] for i in range(len(key_map))]).permute(1,2,3,0)  \n",
    "freq_base = reader.read_field('freq')[0]  \n",
    "obs_base = reader.read_field('obs')[0]  \n",
    "freq = torch.log10(freq_base[::r_train[2]][:s_train[2]])  \n",
    "obs = obs_base[::r_train[3]][:s_train[3]]/torch.max(obs_base)  \n",
    "nLoc = obs.shape[0]  \n",
    "nFreq = freq.shape[0]  \n",
    "freq = freq.view(nFreq, -1)  \n",
    "del reader  \n",
    "\n",
    "# dataset normalization  \n",
    "x_normalizer = GaussianNormalizer(x_train)  \n",
    "# x_train = x_normalizer.encode(x_train)  \n",
    "\n",
    "y_normalizer = GaussianNormalizer_out(y_train)  \n",
    "# y_train = y_normalizer.encode(y_train)  \n",
    "\n",
    "# load network model \n",
    "model = EFDO(modes, modes, width, n_out, layer_sizes, nLoc, init_func, layer_fno, layer_ufno, act_fno).to(device)\n",
    "# Change the model path to the correct path\n",
    "model_path = sys.path[0] + \"/../temp_model/EFDO_config_2_epoch_500.pkl\"\n",
    "print(\"model_path\", model_path)\n",
    "model.load_state_dict(torch.load(model_path))\n",
    "\n",
    "# The input data defines in the predict function is un-normalized (the original input data)\n",
    "# and the output data defines in the predict function is also un-normalized\n",
    "def predict(x, freq=freq):\n",
    "\n",
    "    x = x.unsqueeze(0).unsqueeze(3)\n",
    "    x = x_normalizer.encode(x)\n",
    "    freq = freq.to(device)\n",
    "    x = x.to(device)\n",
    "    with torch.no_grad():\n",
    "        out = model(x,  freq)\n",
    "        out = y_normalizer.decode(out)\n",
    "    out = out.squeeze()\n",
    "\n",
    "    return out.cpu().numpy()"
   ]
  },
  {
   "cell_type": "code",
   "execution_count": 2,
   "metadata": {},
   "outputs": [
    {
     "name": "stdout",
     "output_type": "stream",
     "text": [
      "tensor([[ 3.0000],\n",
      "        [ 2.2258],\n",
      "        [ 1.4516],\n",
      "        [ 0.6774],\n",
      "        [-0.0968],\n",
      "        [-0.8710],\n",
      "        [-1.6452],\n",
      "        [-2.4194]])\n"
     ]
    }
   ],
   "source": [
    "print(freq)"
   ]
  },
  {
   "cell_type": "code",
   "execution_count": 3,
   "metadata": {},
   "outputs": [
    {
     "data": {
      "text/plain": [
       "'2.0.0+cu118'"
      ]
     },
     "execution_count": 3,
     "metadata": {},
     "output_type": "execute_result"
    }
   ],
   "source": [
    "torch.__version__"
   ]
  },
  {
   "cell_type": "code",
   "execution_count": 4,
   "metadata": {},
   "outputs": [
    {
     "data": {
      "text/plain": [
       "True"
      ]
     },
     "execution_count": 4,
     "metadata": {},
     "output_type": "execute_result"
    }
   ],
   "source": [
    "torch.cuda.is_available()"
   ]
  },
  {
   "attachments": {},
   "cell_type": "markdown",
   "metadata": {},
   "source": [
    "# Error analysis of the whole dataset"
   ]
  },
  {
   "attachments": {},
   "cell_type": "markdown",
   "metadata": {},
   "source": [
    "- The whole error analysis (including all sites and receivers) of the training dataset"
   ]
  },
  {
   "cell_type": "code",
   "execution_count": 5,
   "metadata": {},
   "outputs": [],
   "source": [
    "from numpy import linalg as LA\n",
    "reader_train1 = MatReader(TRAIN_PATH)\n",
    "x_train1 = reader_train1.read_field('sig')\n",
    "y_train_rhoxy = reader_train1.read_field('rhoxy').numpy()\n",
    "y_train_rhoyx = reader_train1.read_field('rhoyx').numpy()\n",
    "nSample = x_train1.shape[0]\n",
    "\n",
    "err_all = np.zeros((nSample, 3))\n",
    "for i in range(nSample):\n",
    "\n",
    "    xTrainNew = x_train1[i,:,:]\n",
    "    result = predict(xTrainNew)\n",
    "    rhoxy_predict = pow(10, result[:,:,0])\n",
    "    rhoyx_predict = pow(10, result[:,:,1])\n",
    "\n",
    "    data1 = y_train_rhoxy[i,::4,:]\n",
    "    data2 = y_train_rhoyx[i,::4,:]\n",
    "    data1 = pow(10, data1)\n",
    "    data2 = pow(10, data2)\n",
    "\n",
    "    rhoxy_predict_all = rhoxy_predict.flatten()\n",
    "    rhoyx_predict_all = rhoyx_predict.flatten()\n",
    "\n",
    "    y_train_rhoxy_all = data1.flatten()\n",
    "    y_train_rhoyx_all = data2.flatten()\n",
    "    \n",
    "    diff1 = (rhoxy_predict_all - y_train_rhoxy_all)/y_train_rhoxy_all*100\n",
    "    err1 = LA.norm(diff1, 2) / len(y_train_rhoxy_all) ** 0.5\n",
    "\n",
    "    diff2 = (rhoyx_predict_all - y_train_rhoyx_all)/y_train_rhoyx_all*100\n",
    "    err2 = LA.norm(diff2, 2) / len(y_train_rhoxy_all) ** 0.5\n",
    "\n",
    "    diff = np.power(diff1, 2) + np.power(diff2, 2)\n",
    "    err = np.sqrt(np.sum(diff)) / (2*len(diff)) ** 0.5\n",
    "    \n",
    "    err_all[i, 0] = err1\n",
    "    err_all[i, 1] = err2\n",
    "    err_all[i, 2] = err"
   ]
  },
  {
   "cell_type": "code",
   "execution_count": 6,
   "metadata": {},
   "outputs": [
    {
     "data": {
      "text/plain": [
       "(336,)"
      ]
     },
     "execution_count": 6,
     "metadata": {},
     "output_type": "execute_result"
    }
   ],
   "source": [
    "diff.shape"
   ]
  },
  {
   "cell_type": "code",
   "execution_count": 7,
   "metadata": {},
   "outputs": [
    {
     "data": {
      "text/plain": [
       "612"
      ]
     },
     "execution_count": 7,
     "metadata": {},
     "output_type": "execute_result"
    }
   ],
   "source": [
    "err_data_new = err_all[:,2]\n",
    "len(err_data_new[err_data_new>5].flatten())"
   ]
  },
  {
   "cell_type": "code",
   "execution_count": 8,
   "metadata": {},
   "outputs": [
    {
     "data": {
      "text/plain": [
       "29388"
      ]
     },
     "execution_count": 8,
     "metadata": {},
     "output_type": "execute_result"
    }
   ],
   "source": [
    "# <5% error\n",
    "nSample - len(err_data_new[err_data_new>5].flatten())"
   ]
  },
  {
   "cell_type": "code",
   "execution_count": 9,
   "metadata": {},
   "outputs": [
    {
     "name": "stdout",
     "output_type": "stream",
     "text": [
      "error < 5%:  97.96000000000001 %\n"
     ]
    }
   ],
   "source": [
    "print(\"error < 5%: \", (1-len(err_data_new[err_data_new>5].flatten())/nSample)*100, \"%\")"
   ]
  },
  {
   "cell_type": "code",
   "execution_count": 10,
   "metadata": {},
   "outputs": [
    {
     "data": {
      "text/plain": [
       "29969"
      ]
     },
     "execution_count": 10,
     "metadata": {},
     "output_type": "execute_result"
    }
   ],
   "source": [
    "# <10% error\n",
    "nSample - len(err_data_new[err_data_new>10].flatten())"
   ]
  },
  {
   "cell_type": "code",
   "execution_count": 11,
   "metadata": {},
   "outputs": [
    {
     "name": "stdout",
     "output_type": "stream",
     "text": [
      "error < 10%:  99.89666666666666 %\n"
     ]
    }
   ],
   "source": [
    "print(\"error < 10%: \", (1-len(err_data_new[err_data_new>10].flatten())/nSample)*100, \"%\")"
   ]
  },
  {
   "cell_type": "code",
   "execution_count": 12,
   "metadata": {},
   "outputs": [
    {
     "data": {
      "text/plain": [
       "[<matplotlib.lines.Line2D at 0x7f5d17204550>]"
      ]
     },
     "execution_count": 12,
     "metadata": {},
     "output_type": "execute_result"
    },
    {
     "data": {
      "image/png": "[encoded data removed]",
      "text/plain": [
       "<Figure size 640x480 with 1 Axes>"
      ]
     },
     "metadata": {},
     "output_type": "display_data"
    }
   ],
   "source": [
    "import matplotlib.pyplot as plt\n",
    "import numpy as np\n",
    "\n",
    "%matplotlib inline\n",
    "plt.figure()\n",
    "plt.plot(err_data_new, 'r*')"
   ]
  },
  {
   "cell_type": "code",
   "execution_count": 14,
   "metadata": {},
   "outputs": [
    {
     "name": "stdout",
     "output_type": "stream",
     "text": [
      "The run time of one single prediction is : 0.005569 seconds\n"
     ]
    }
   ],
   "source": [
    "import time\n",
    "from numpy import linalg as LA\n",
    "reader_train1 = MatReader(TRAIN_PATH)\n",
    "x_train1 = reader_train1.read_field('sig')\n",
    "y_train_rhoxy = reader_train1.read_field('rhoxy').numpy()\n",
    "y_train_rhoyx = reader_train1.read_field('rhoyx').numpy()\n",
    "nSample = 1000\n",
    "\n",
    "start_time = time.time() \n",
    "err_all = np.zeros((nSample, 3))\n",
    "for i in range(nSample):\n",
    "    xTrainNew = x_train1[i,:,:]\n",
    "    result = predict(xTrainNew)\n",
    "end_time = time.time()    \n",
    "run_time = end_time - start_time   \n",
    "print(\"The run time of one single prediction is : %.06f seconds\" %(run_time/nSample))"
   ]
  },
  {
   "cell_type": "markdown",
   "metadata": {},
   "source": [
    "- $R^2$ and $RMSE$ statistics of the training dataset"
   ]
  },
  {
   "cell_type": "code",
   "execution_count": 41,
   "metadata": {},
   "outputs": [
    {
     "data": {
      "text/plain": [
       "(tensor([1.0000e+03, 6.4040e+02, 4.1011e+02, 2.6264e+02, 1.6819e+02, 1.0771e+02,\n",
       "         6.8978e+01, 4.4173e+01, 2.8289e+01, 1.8116e+01, 1.1602e+01, 7.4296e+00,\n",
       "         4.7579e+00, 3.0470e+00, 1.9513e+00, 1.2496e+00, 8.0025e-01, 5.1248e-01,\n",
       "         3.2819e-01, 2.1017e-01, 1.3460e-01, 8.6195e-02, 5.5200e-02, 3.5350e-02,\n",
       "         2.2638e-02, 1.4497e-02, 9.2841e-03, 5.9456e-03, 3.8075e-03, 2.4384e-03,\n",
       "         1.5615e-03, 1.0000e-03]),\n",
       " torch.Size([32]))"
      ]
     },
     "execution_count": 41,
     "metadata": {},
     "output_type": "execute_result"
    }
   ],
   "source": [
    "freq_base, freq_base.shape"
   ]
  },
  {
   "cell_type": "code",
   "execution_count": 15,
   "metadata": {},
   "outputs": [
    {
     "name": "stdout",
     "output_type": "stream",
     "text": [
      "tensor([[ 3.0000],\n",
      "        [ 2.2258],\n",
      "        [ 1.4516],\n",
      "        [ 0.6774],\n",
      "        [-0.0968],\n",
      "        [-0.8710],\n",
      "        [-1.6452],\n",
      "        [-2.4194]])\n",
      "tensor([[ 2.8065],\n",
      "        [ 2.0323],\n",
      "        [ 1.2581],\n",
      "        [ 0.4839],\n",
      "        [-0.2903],\n",
      "        [-1.0645],\n",
      "        [-1.8387],\n",
      "        [-2.6129]])\n",
      "tensor([[ 2.6129],\n",
      "        [ 1.8387],\n",
      "        [ 1.0645],\n",
      "        [ 0.2903],\n",
      "        [-0.4839],\n",
      "        [-1.2581],\n",
      "        [-2.0323],\n",
      "        [-2.8065]])\n",
      "tensor([[ 2.4194],\n",
      "        [ 1.6452],\n",
      "        [ 0.8710],\n",
      "        [ 0.0968],\n",
      "        [-0.6774],\n",
      "        [-1.4516],\n",
      "        [-2.2258],\n",
      "        [-3.0000]])\n"
     ]
    }
   ],
   "source": [
    "nnFreq = np.int64(freq_base.shape[0]/4)\n",
    "\n",
    "freq1 = torch.log10(freq_base[0:-1:4]).view(nnFreq, -1)\n",
    "print(freq1)\n",
    "freq2 = torch.log10(freq_base[1:-1:4]).view(nnFreq, -1)\n",
    "print(freq2)\n",
    "freq3 = torch.log10(freq_base[2:-1:4]).view(nnFreq, -1)\n",
    "print(freq3)\n",
    "freq4 = torch.log10(freq_base[3:freq_base.shape[0]+1:4]).view(nnFreq, -1)\n",
    "print(freq4)"
   ]
  },
  {
   "cell_type": "code",
   "execution_count": 16,
   "metadata": {},
   "outputs": [],
   "source": [
    "def predict1(x, freq=freq1):\n",
    "\n",
    "    x = x.unsqueeze(0).unsqueeze(3)\n",
    "    x = x_normalizer.encode(x)\n",
    "    x = x.to(device)\n",
    "    freq = freq.to(device)\n",
    "    with torch.no_grad():\n",
    "        out = model(x,  freq)\n",
    "        out = y_normalizer.decode(out)\n",
    "    out = out.squeeze()\n",
    "\n",
    "    return out.cpu().numpy()\n",
    "\n",
    "def predict2(x, freq=freq2):\n",
    "\n",
    "    x = x.unsqueeze(0).unsqueeze(3)\n",
    "    x = x_normalizer.encode(x)\n",
    "    x = x.to(device)\n",
    "    freq = freq.to(device)\n",
    "    with torch.no_grad():\n",
    "        out = model(x,  freq)\n",
    "        out = y_normalizer.decode(out)\n",
    "    out = out.squeeze()\n",
    "\n",
    "    return out.cpu().numpy()\n",
    "\n",
    "def predict3(x, freq=freq3):  \n",
    "    \n",
    "        x = x.unsqueeze(0).unsqueeze(3)\n",
    "        x = x_normalizer.encode(x)\n",
    "        x = x.to(device)\n",
    "        freq = freq.to(device)\n",
    "        with torch.no_grad():\n",
    "            out = model(x,  freq)\n",
    "            out = y_normalizer.decode(out)\n",
    "        out = out.squeeze()\n",
    "    \n",
    "        return out.cpu().numpy()\n",
    "\n",
    "def predict4(x, freq=freq4):\n",
    "         \n",
    "        x = x.unsqueeze(0).unsqueeze(3)\n",
    "        x = x_normalizer.encode(x)\n",
    "        x = x.to(device)\n",
    "        freq = freq.to(device)\n",
    "        with torch.no_grad():\n",
    "            out = model(x,  freq)\n",
    "            out = y_normalizer.decode(out)\n",
    "        out = out.squeeze()\n",
    "    \n",
    "        return out.cpu().numpy()"
   ]
  },
  {
   "cell_type": "code",
   "execution_count": 17,
   "metadata": {},
   "outputs": [],
   "source": [
    "from numpy import linalg as LA\n",
    "reader_train1 = MatReader(TRAIN_PATH)\n",
    "x_train1 = reader_train1.read_field('sig')\n",
    "y_train_rhoxy = reader_train1.read_field('rhoxy').numpy()\n",
    "y_train_rhoyx = reader_train1.read_field('rhoyx').numpy()\n",
    "nSample = x_train1.shape[0]\n",
    "\n",
    "(nTol, nFreq, nSite) = y_train_rhoxy.shape\n",
    "nnFreq = np.int64(nFreq/4)\n",
    "\n",
    "err_all = np.zeros((nSample, 3))\n",
    "predict_data1 = np.zeros((nSample, nnFreq, nSite, 2))\n",
    "real_data1 = np.zeros((nSample, nnFreq, nSite, 2))\n",
    "real_data1[:,:,:,0] = pow(10, y_train_rhoxy[:nSample,::4,:])\n",
    "real_data1[:,:,:,1] = pow(10, y_train_rhoyx[:nSample,::4,:])\n",
    "\n",
    "predict_data2 = np.zeros((nSample, nnFreq, nSite, 2))\n",
    "real_data2 = np.zeros((nSample, nnFreq, nSite, 2))\n",
    "real_data2[:,:,:,0] = pow(10, y_train_rhoxy[:nSample,1:-1:4,:])\n",
    "real_data2[:,:,:,1] = pow(10, y_train_rhoyx[:nSample,1:-1:4,:])\n",
    "\n",
    "predict_data3 = np.zeros((nSample, nnFreq, nSite, 2))\n",
    "real_data3 = np.zeros((nSample, nnFreq, nSite, 2))\n",
    "real_data3[:,:,:,0] = pow(10, y_train_rhoxy[:nSample,2:-1:4,:])\n",
    "real_data3[:,:,:,1] = pow(10, y_train_rhoyx[:nSample,2:-1:4,:])\n",
    "\n",
    "predict_data4 = np.zeros((nSample, nnFreq, nSite, 2))\n",
    "real_data4 = np.zeros((nSample, nnFreq, nSite, 2))\n",
    "real_data4[:,:,:,0] = pow(10, y_train_rhoxy[:nSample,3:nFreq+1:4,:])\n",
    "real_data4[:,:,:,1] = pow(10, y_train_rhoyx[:nSample,3:nFreq+1:4,:])\n",
    "\n",
    "for i in range(nSample):\n",
    "\n",
    "    xTrainNew = x_train1[i,:,:]\n",
    "    \n",
    "    result = predict1(xTrainNew)\n",
    "    rhoxy_predict = pow(10, result[:,:,0])\n",
    "    rhoyx_predict = pow(10, result[:,:,1])\n",
    "    predict_data1[i,:,:,0] = rhoxy_predict\n",
    "    predict_data1[i,:,:,1] = rhoyx_predict\n",
    "\n",
    "    result = predict2(xTrainNew)\n",
    "    rhoxy_predict = pow(10, result[:,:,0])\n",
    "    rhoyx_predict = pow(10, result[:,:,1])\n",
    "    predict_data2[i,:,:,0] = rhoxy_predict\n",
    "    predict_data2[i,:,:,1] = rhoyx_predict\n",
    "\n",
    "    result = predict3(xTrainNew)\n",
    "    rhoxy_predict = pow(10, result[:,:,0])\n",
    "    rhoyx_predict = pow(10, result[:,:,1])\n",
    "    predict_data3[i,:,:,0] = rhoxy_predict\n",
    "    predict_data3[i,:,:,1] = rhoyx_predict\n",
    "\n",
    "    result = predict4(xTrainNew)\n",
    "    rhoxy_predict = pow(10, result[:,:,0])\n",
    "    rhoyx_predict = pow(10, result[:,:,1])\n",
    "    predict_data4[i,:,:,0] = rhoxy_predict\n",
    "    predict_data4[i,:,:,1] = rhoyx_predict"
   ]
  },
  {
   "cell_type": "code",
   "execution_count": 18,
   "metadata": {},
   "outputs": [],
   "source": [
    "real_data_reshape1 = real_data1.reshape(nSample, nnFreq, -1)\n",
    "predict_data_reshape1 = predict_data1.reshape(nSample, nnFreq, -1)\n",
    "real_data_reshape2 = real_data2.reshape(nSample, nnFreq, -1)\n",
    "predict_data_reshape2 = predict_data2.reshape(nSample, nnFreq, -1)\n",
    "real_data_reshape3 = real_data3.reshape(nSample, nnFreq, -1)\n",
    "predict_data_reshape3 = predict_data3.reshape(nSample, nnFreq, -1)\n",
    "real_data_reshape4 = real_data4.reshape(nSample, nnFreq, -1)\n",
    "predict_data_reshape4 = predict_data4.reshape(nSample, nnFreq, -1)"
   ]
  },
  {
   "cell_type": "code",
   "execution_count": 19,
   "metadata": {},
   "outputs": [
    {
     "name": "stdout",
     "output_type": "stream",
     "text": [
      "r2=================\n",
      "[0.99997437 0.99996596 0.99993804 0.99986943 0.99978671 0.99975769\n",
      " 0.99978562 0.99980874]\n",
      "[0.99977662 0.99979501 0.99968283 0.99952505 0.99931713 0.99927925\n",
      " 0.99941785 0.99914028]\n",
      "[0.99931633 0.99926032 0.99890987 0.99850957 0.99803487 0.99806599\n",
      " 0.99852905 0.99705157]\n",
      "[0.99864916 0.99830733 0.99752134 0.99666723 0.99581463 0.9961002\n",
      " 0.99713705 0.99341813]\n",
      "\n",
      "rmse=================\n",
      "[0.00464037 0.00506052 0.00620885 0.00812779 0.01015931 0.01193298\n",
      " 0.01301671 0.01417463]\n",
      "[0.01356241 0.01216698 0.01366435 0.01523827 0.01845339 0.02130935\n",
      " 0.02227984 0.03097518]\n",
      "[0.02343401 0.02258995 0.02464639 0.02672271 0.03200782 0.03621555\n",
      " 0.03673967 0.05896797]\n",
      "[0.03244798 0.03332857 0.0362167  0.03988648 0.04803394 0.05342218\n",
      " 0.05307656 0.09032661]\n",
      "\n",
      "mae=================\n",
      "[0.00334921 0.00360007 0.00437337 0.00560852 0.00683811 0.00768056\n",
      " 0.00812758 0.00872847]\n",
      "[0.0113003  0.00959448 0.0107457  0.01126634 0.0133333  0.01570241\n",
      " 0.01623285 0.0239831 ]\n",
      "[0.0191007  0.01785286 0.01941925 0.02014627 0.02427546 0.02803976\n",
      " 0.02791368 0.04671657]\n",
      "[0.02550986 0.0259727  0.02803552 0.03011274 0.03731456 0.04193836\n",
      " 0.04063269 0.0709719 ]\n"
     ]
    }
   ],
   "source": [
    "from sklearn.metrics import r2_score, mean_squared_error, mean_absolute_error\n",
    " \n",
    "r2_1 = np.zeros(nnFreq)\n",
    "r2_2 = np.zeros(nnFreq)\n",
    "r2_3 = np.zeros(nnFreq)\n",
    "r2_4 = np.zeros(nnFreq)\n",
    "\n",
    "rmse_1 = np.zeros(nnFreq)\n",
    "rmse_2 = np.zeros(nnFreq)\n",
    "rmse_3 = np.zeros(nnFreq)\n",
    "rmse_4 = np.zeros(nnFreq)\n",
    "\n",
    "mae_1 = np.zeros(nnFreq)\n",
    "mae_2 = np.zeros(nnFreq)\n",
    "mae_3 = np.zeros(nnFreq)\n",
    "mae_4 = np.zeros(nnFreq)\n",
    "\n",
    "r1 = np.log10(real_data_reshape1)\n",
    "p1 = np.log10(predict_data_reshape1)\n",
    "r2 = np.log10(real_data_reshape2)\n",
    "p2 = np.log10(predict_data_reshape2)\n",
    "r3 = np.log10(real_data_reshape3)\n",
    "p3 = np.log10(predict_data_reshape3)\n",
    "r4 = np.log10(real_data_reshape4)\n",
    "p4 = np.log10(predict_data_reshape4)\n",
    "\n",
    "for i in range(nnFreq):\n",
    "    r2_1[i] = r2_score(r1[:,i,:].flatten(), p1[:,i,:].flatten())\n",
    "    r2_2[i] = r2_score(r2[:,i,:].flatten(), p2[:,i,:].flatten())\n",
    "    r2_3[i] = r2_score(r3[:,i,:].flatten(), p3[:,i,:].flatten())\n",
    "    r2_4[i] = r2_score(r4[:,i,:].flatten(), p4[:,i,:].flatten())\n",
    "\n",
    "    rmse_1[i] = mean_squared_error(r1[:,i,:].flatten(), p1[:,i,:].flatten(), squared=False)\n",
    "    rmse_2[i] = mean_squared_error(r2[:,i,:].flatten(), p2[:,i,:].flatten(), squared=False)\n",
    "    rmse_3[i] = mean_squared_error(r3[:,i,:].flatten(), p3[:,i,:].flatten(), squared=False)\n",
    "    rmse_4[i] = mean_squared_error(r4[:,i,:].flatten(), p4[:,i,:].flatten(), squared=False)\n",
    "\n",
    "    mae_1[i] = mean_absolute_error(r1[:,i,:].flatten(), p1[:,i,:].flatten())\n",
    "    mae_2[i] = mean_absolute_error(r2[:,i,:].flatten(), p2[:,i,:].flatten())\n",
    "    mae_3[i] = mean_absolute_error(r3[:,i,:].flatten(), p3[:,i,:].flatten())\n",
    "    mae_4[i] = mean_absolute_error(r4[:,i,:].flatten(), p4[:,i,:].flatten())\n",
    "\n",
    "print(\"r2=================\")\n",
    "print(r2_1)\n",
    "print(r2_2)\n",
    "print(r2_3)\n",
    "print(r2_4)\n",
    "\n",
    "print(\"\\nrmse=================\")\n",
    "print(rmse_1)\n",
    "print(rmse_2)\n",
    "print(rmse_3)\n",
    "print(rmse_4)\n",
    "\n",
    "print(\"\\nmae=================\")\n",
    "print(mae_1)\n",
    "print(mae_2)\n",
    "print(mae_3)\n",
    "print(mae_4)"
   ]
  },
  {
   "cell_type": "code",
   "execution_count": 20,
   "metadata": {},
   "outputs": [
    {
     "name": "stdout",
     "output_type": "stream",
     "text": [
      "[0.99997437 0.99977662 0.99931633 0.99864916 0.99996596 0.99979501\n",
      " 0.99926032 0.99830733 0.99993804 0.99968283 0.99890987 0.99752134\n",
      " 0.99986943 0.99952505 0.99850957 0.99666723 0.99978671 0.99931713\n",
      " 0.99803487 0.99581463 0.99975769 0.99927925 0.99806599 0.9961002\n",
      " 0.99978562 0.99941785 0.99852905 0.99713705 0.99980874 0.99914028\n",
      " 0.99705157 0.99341813]\n",
      "[0.00464037 0.01356241 0.02343401 0.03244798 0.00506052 0.01216698\n",
      " 0.02258995 0.03332857 0.00620885 0.01366435 0.02464639 0.0362167\n",
      " 0.00812779 0.01523827 0.02672271 0.03988648 0.01015931 0.01845339\n",
      " 0.03200782 0.04803394 0.01193298 0.02130935 0.03621555 0.05342218\n",
      " 0.01301671 0.02227984 0.03673967 0.05307656 0.01417463 0.03097518\n",
      " 0.05896797 0.09032661]\n",
      "[0.00334921 0.0113003  0.0191007  0.02550986 0.00360007 0.00959448\n",
      " 0.01785286 0.0259727  0.00437337 0.0107457  0.01941925 0.02803552\n",
      " 0.00560852 0.01126634 0.02014627 0.03011274 0.00683811 0.0133333\n",
      " 0.02427546 0.03731456 0.00768056 0.01570241 0.02803976 0.04193836\n",
      " 0.00812758 0.01623285 0.02791368 0.04063269 0.00872847 0.0239831\n",
      " 0.04671657 0.0709719 ]\n"
     ]
    },
    {
     "data": {
      "text/plain": [
       "<matplotlib.legend.Legend at 0x7f58bfd95ee0>"
      ]
     },
     "execution_count": 20,
     "metadata": {},
     "output_type": "execute_result"
    },
    {
     "data": {
      "image/png": "[encoded data removed]",
      "text/plain": [
       "<Figure size 640x480 with 1 Axes>"
      ]
     },
     "metadata": {},
     "output_type": "display_data"
    }
   ],
   "source": [
    "r2 = np.zeros(nFreq)\n",
    "for i in range(nnFreq):\n",
    "    r2[4*i] = r2_1[i]\n",
    "    r2[4*i+1] = r2_2[i]\n",
    "    r2[4*i+2] = r2_3[i]\n",
    "    r2[4*i+3] = r2_4[i]\n",
    "\n",
    "rmse= np.zeros(nFreq)\n",
    "for i in range(nnFreq):\n",
    "    rmse[4*i] = rmse_1[i]\n",
    "    rmse[4*i+1] = rmse_2[i]\n",
    "    rmse[4*i+2] = rmse_3[i]\n",
    "    rmse[4*i+3] = rmse_4[i]\n",
    "\n",
    "mae = np.zeros(nFreq)\n",
    "for i in range(nnFreq):\n",
    "    mae[4*i] = mae_1[i]\n",
    "    mae[4*i+1] = mae_2[i]\n",
    "    mae[4*i+2] = mae_3[i]\n",
    "    mae[4*i+3] = mae_4[i]\n",
    "\n",
    "print(r2)\n",
    "print(rmse)\n",
    "print(mae)\n",
    "\n",
    "import matplotlib.pyplot as plt\n",
    "import numpy as np\n",
    "\n",
    "%matplotlib inline\n",
    "plt.figure()\n",
    "plt.plot(r2)\n",
    "plt.plot(rmse)\n",
    "plt.plot(mae)\n",
    "plt.legend(['r2', 'rmse', 'mae'], )"
   ]
  },
  {
   "cell_type": "markdown",
   "metadata": {},
   "source": [
    "- $R^2$, $RMSE$ and $MAE$ statistics of the test dataset"
   ]
  },
  {
   "cell_type": "code",
   "execution_count": 21,
   "metadata": {},
   "outputs": [],
   "source": [
    "def predict1(x, freq=freq1):\n",
    "\n",
    "    x = x.unsqueeze(0).unsqueeze(3)\n",
    "    x = x_normalizer.encode(x)\n",
    "    x = x.to(device)\n",
    "    freq = freq.to(device)\n",
    "    with torch.no_grad():\n",
    "        out = model(x,  freq)\n",
    "        out = y_normalizer.decode(out)\n",
    "    out = out.squeeze()\n",
    "\n",
    "    return out.cpu().numpy()\n",
    "\n",
    "def predict2(x, freq=freq2):\n",
    "\n",
    "    x = x.unsqueeze(0).unsqueeze(3)\n",
    "    x = x_normalizer.encode(x)\n",
    "    x = x.to(device)\n",
    "    freq = freq.to(device)\n",
    "    with torch.no_grad():\n",
    "        out = model(x,  freq)\n",
    "        out = y_normalizer.decode(out)\n",
    "    out = out.squeeze()\n",
    "\n",
    "    return out.cpu().numpy()\n",
    "\n",
    "def predict3(x, freq=freq3):  \n",
    "    \n",
    "        x = x.unsqueeze(0).unsqueeze(3)\n",
    "        x = x_normalizer.encode(x)\n",
    "        x = x.to(device)\n",
    "        freq = freq.to(device)\n",
    "        with torch.no_grad():\n",
    "            out = model(x,  freq)\n",
    "            out = y_normalizer.decode(out)\n",
    "        out = out.squeeze()\n",
    "    \n",
    "        return out.cpu().numpy()\n",
    "\n",
    "def predict4(x, freq=freq4):\n",
    "         \n",
    "        x = x.unsqueeze(0).unsqueeze(3)\n",
    "        x = x_normalizer.encode(x)\n",
    "        x = x.to(device)\n",
    "        freq = freq.to(device)\n",
    "        with torch.no_grad():\n",
    "            out = model(x,  freq)\n",
    "            out = y_normalizer.decode(out)\n",
    "        out = out.squeeze()\n",
    "    \n",
    "        return out.cpu().numpy()"
   ]
  },
  {
   "cell_type": "code",
   "execution_count": 50,
   "metadata": {},
   "outputs": [],
   "source": [
    "from numpy import linalg as LA\n",
    "read_test1 = MatReader(TEST_PATH) # test dataset\n",
    "x_test1 = read_test1.read_field('sig')\n",
    "y_test_rhoxy = read_test1.read_field('rhoxy').numpy()\n",
    "y_test_rhoyx = read_test1.read_field('rhoyx').numpy()\n",
    "nSample = x_test1.shape[0]\n",
    "\n",
    "(nTol, nFreq, nSite) = y_test_rhoxy.shape\n",
    "nnFreq = np.int64(nFreq/4)\n",
    "\n",
    "err_all = np.zeros((nSample, 3))\n",
    "predict_data1 = np.zeros((nSample, nnFreq, nSite, 2))\n",
    "real_data1 = np.zeros((nSample, nnFreq, nSite, 2))\n",
    "real_data1[:,:,:,0] = pow(10, y_test_rhoxy[:nSample,::4,:])\n",
    "real_data1[:,:,:,1] = pow(10, y_test_rhoyx[:nSample,::4,:])\n",
    "\n",
    "predict_data2 = np.zeros((nSample, nnFreq, nSite, 2))\n",
    "real_data2 = np.zeros((nSample, nnFreq, nSite, 2))\n",
    "real_data2[:,:,:,0] = pow(10, y_test_rhoxy[:nSample,1:-1:4,:])\n",
    "real_data2[:,:,:,1] = pow(10, y_test_rhoyx[:nSample,1:-1:4,:])\n",
    "\n",
    "predict_data3 = np.zeros((nSample, nnFreq, nSite, 2))\n",
    "real_data3 = np.zeros((nSample, nnFreq, nSite, 2))\n",
    "real_data3[:,:,:,0] = pow(10, y_test_rhoxy[:nSample,2:-1:4,:])\n",
    "real_data3[:,:,:,1] = pow(10, y_test_rhoyx[:nSample,2:-1:4,:])\n",
    "\n",
    "predict_data4 = np.zeros((nSample, nnFreq, nSite, 2))\n",
    "real_data4 = np.zeros((nSample, nnFreq, nSite, 2))\n",
    "real_data4[:,:,:,0] = pow(10, y_test_rhoxy[:nSample,3:nFreq+1:4,:])\n",
    "real_data4[:,:,:,1] = pow(10, y_test_rhoyx[:nSample,3:nFreq+1:4,:])\n",
    "\n",
    "for i in range(nSample):\n",
    "\n",
    "    xTestNew = x_test1[i,:,:]\n",
    "    \n",
    "    result = predict1(xTestNew)\n",
    "    rhoxy_predict = pow(10, result[:,:,0])\n",
    "    rhoyx_predict = pow(10, result[:,:,1])\n",
    "    predict_data1[i,:,:,0] = rhoxy_predict\n",
    "    predict_data1[i,:,:,1] = rhoyx_predict\n",
    "\n",
    "    result = predict2(xTestNew)\n",
    "    rhoxy_predict = pow(10, result[:,:,0])\n",
    "    rhoyx_predict = pow(10, result[:,:,1])\n",
    "    predict_data2[i,:,:,0] = rhoxy_predict\n",
    "    predict_data2[i,:,:,1] = rhoyx_predict\n",
    "\n",
    "    result = predict3(xTestNew)\n",
    "    rhoxy_predict = pow(10, result[:,:,0])\n",
    "    rhoyx_predict = pow(10, result[:,:,1])\n",
    "    predict_data3[i,:,:,0] = rhoxy_predict\n",
    "    predict_data3[i,:,:,1] = rhoyx_predict\n",
    "\n",
    "    result = predict4(xTestNew)\n",
    "    rhoxy_predict = pow(10, result[:,:,0])\n",
    "    rhoyx_predict = pow(10, result[:,:,1])\n",
    "    predict_data4[i,:,:,0] = rhoxy_predict\n",
    "    predict_data4[i,:,:,1] = rhoyx_predict"
   ]
  },
  {
   "cell_type": "code",
   "execution_count": 51,
   "metadata": {},
   "outputs": [],
   "source": [
    "real_data_reshape1 = real_data1.reshape(nSample, nnFreq, -1)\n",
    "predict_data_reshape1 = predict_data1.reshape(nSample, nnFreq, -1)\n",
    "real_data_reshape2 = real_data2.reshape(nSample, nnFreq, -1)\n",
    "predict_data_reshape2 = predict_data2.reshape(nSample, nnFreq, -1)\n",
    "real_data_reshape3 = real_data3.reshape(nSample, nnFreq, -1)\n",
    "predict_data_reshape3 = predict_data3.reshape(nSample, nnFreq, -1)\n",
    "real_data_reshape4 = real_data4.reshape(nSample, nnFreq, -1)\n",
    "predict_data_reshape4 = predict_data4.reshape(nSample, nnFreq, -1)"
   ]
  },
  {
   "cell_type": "code",
   "execution_count": 52,
   "metadata": {},
   "outputs": [
    {
     "name": "stdout",
     "output_type": "stream",
     "text": [
      "r2=================\n",
      "[0.99997224 0.99996342 0.99993386 0.99985579 0.99974815 0.99969479\n",
      " 0.99970094 0.99970022]\n",
      "[0.99977475 0.99978868 0.99966763 0.99950265 0.9992727  0.99921817\n",
      " 0.99933115 0.99902289]\n",
      "[0.99931083 0.99924046 0.99885833 0.99846595 0.99798613 0.99800822\n",
      " 0.99844313 0.99692936]\n",
      "[0.9986393  0.99825798 0.99741503 0.9965847  0.99575264 0.99603386\n",
      " 0.99704412 0.99329998]\n",
      "\n",
      "rmse=================\n",
      "[0.00482221 0.00522219 0.00635959 0.00846624 0.01100688 0.01340749\n",
      " 0.01541004 0.01779379]\n",
      "[0.01359246 0.01228612 0.01385801 0.0154702  0.01901598 0.02222555\n",
      " 0.02394221 0.03310791]\n",
      "[0.02346532 0.02274188 0.02498046 0.02693572 0.03239248 0.03681549\n",
      " 0.03789841 0.06032392]\n",
      "[0.03245222 0.03355409 0.03663633 0.0401874  0.04841646 0.05398484\n",
      " 0.05407766 0.09133556]\n",
      "\n",
      "mae=================\n",
      "[0.00341838 0.00367214 0.00443936 0.00580021 0.00732251 0.00857607\n",
      " 0.00957253 0.01094247]\n",
      "[0.01130634 0.00969048 0.01087991 0.01137415 0.01355266 0.0161211\n",
      " 0.01715731 0.02540268]\n",
      "[0.01913195 0.0179813  0.01963935 0.02025194 0.02437802 0.02832723\n",
      " 0.02860493 0.0478552 ]\n",
      "[0.02553403 0.02610341 0.02828952 0.03029262 0.03746261 0.04225471\n",
      " 0.04139582 0.07207822]\n"
     ]
    }
   ],
   "source": [
    "from sklearn.metrics import r2_score, mean_squared_error, mean_absolute_error\n",
    " \n",
    "r2_1 = np.zeros(nnFreq)\n",
    "r2_2 = np.zeros(nnFreq)\n",
    "r2_3 = np.zeros(nnFreq)\n",
    "r2_4 = np.zeros(nnFreq)\n",
    "\n",
    "rmse_1 = np.zeros(nnFreq)\n",
    "rmse_2 = np.zeros(nnFreq)\n",
    "rmse_3 = np.zeros(nnFreq)\n",
    "rmse_4 = np.zeros(nnFreq)\n",
    "\n",
    "mae_1 = np.zeros(nnFreq)\n",
    "mae_2 = np.zeros(nnFreq)\n",
    "mae_3 = np.zeros(nnFreq)\n",
    "mae_4 = np.zeros(nnFreq)\n",
    "\n",
    "r1 = np.log10(real_data_reshape1)\n",
    "p1 = np.log10(predict_data_reshape1)\n",
    "r2 = np.log10(real_data_reshape2)\n",
    "p2 = np.log10(predict_data_reshape2)\n",
    "r3 = np.log10(real_data_reshape3)\n",
    "p3 = np.log10(predict_data_reshape3)\n",
    "r4 = np.log10(real_data_reshape4)\n",
    "p4 = np.log10(predict_data_reshape4)\n",
    "\n",
    "for i in range(nnFreq):\n",
    "    r2_1[i] = r2_score(r1[:,i,:].flatten(), p1[:,i,:].flatten())\n",
    "    r2_2[i] = r2_score(r2[:,i,:].flatten(), p2[:,i,:].flatten())\n",
    "    r2_3[i] = r2_score(r3[:,i,:].flatten(), p3[:,i,:].flatten())\n",
    "    r2_4[i] = r2_score(r4[:,i,:].flatten(), p4[:,i,:].flatten())\n",
    "\n",
    "    rmse_1[i] = mean_squared_error(r1[:,i,:].flatten(), p1[:,i,:].flatten(), squared=False)\n",
    "    rmse_2[i] = mean_squared_error(r2[:,i,:].flatten(), p2[:,i,:].flatten(), squared=False)\n",
    "    rmse_3[i] = mean_squared_error(r3[:,i,:].flatten(), p3[:,i,:].flatten(), squared=False)\n",
    "    rmse_4[i] = mean_squared_error(r4[:,i,:].flatten(), p4[:,i,:].flatten(), squared=False)\n",
    "\n",
    "    mae_1[i] = mean_absolute_error(r1[:,i,:].flatten(), p1[:,i,:].flatten())\n",
    "    mae_2[i] = mean_absolute_error(r2[:,i,:].flatten(), p2[:,i,:].flatten())\n",
    "    mae_3[i] = mean_absolute_error(r3[:,i,:].flatten(), p3[:,i,:].flatten())\n",
    "    mae_4[i] = mean_absolute_error(r4[:,i,:].flatten(), p4[:,i,:].flatten())\n",
    "\n",
    "print(\"r2=================\")\n",
    "print(r2_1)\n",
    "print(r2_2)\n",
    "print(r2_3)\n",
    "print(r2_4)\n",
    "\n",
    "print(\"\\nrmse=================\")\n",
    "print(rmse_1)\n",
    "print(rmse_2)\n",
    "print(rmse_3)\n",
    "print(rmse_4)\n",
    "\n",
    "print(\"\\nmae=================\")\n",
    "print(mae_1)\n",
    "print(mae_2)\n",
    "print(mae_3)\n",
    "print(mae_4)"
   ]
  },
  {
   "cell_type": "code",
   "execution_count": 25,
   "metadata": {},
   "outputs": [
    {
     "name": "stdout",
     "output_type": "stream",
     "text": [
      "[0.99997224 0.99977475 0.99931083 0.9986393  0.99996342 0.99978868\n",
      " 0.99924046 0.99825798 0.99993386 0.99966763 0.99885833 0.99741503\n",
      " 0.99985578 0.99950265 0.99846595 0.9965847  0.99974815 0.9992727\n",
      " 0.99798613 0.99575263 0.99969479 0.99921818 0.99800823 0.99603387\n",
      " 0.99970094 0.99933115 0.99844313 0.99704412 0.99970022 0.99902289\n",
      " 0.99692937 0.99329998]\n",
      "[0.00482222 0.01359247 0.02346532 0.03245221 0.00522219 0.01228611\n",
      " 0.02274188 0.0335541  0.00635961 0.013858   0.02498047 0.03663634\n",
      " 0.00846627 0.01547017 0.0269357  0.0401874  0.01100692 0.01901595\n",
      " 0.03239248 0.04841649 0.0134075  0.02222554 0.03681543 0.05398479\n",
      " 0.01541003 0.02394219 0.03789842 0.05407768 0.01779377 0.03310786\n",
      " 0.06032386 0.09133556]\n",
      "[0.00341839 0.01130634 0.01913195 0.02553403 0.00367214 0.00969048\n",
      " 0.0179813  0.02610342 0.00443937 0.01087991 0.01963935 0.02828952\n",
      " 0.00580022 0.01137415 0.02025192 0.03029262 0.0073225  0.01355266\n",
      " 0.02437803 0.03746262 0.00857608 0.0161211  0.02832721 0.04225468\n",
      " 0.00957253 0.01715731 0.02860494 0.04139584 0.01094247 0.02540263\n",
      " 0.04785515 0.07207819]\n"
     ]
    },
    {
     "data": {
      "text/plain": [
       "<matplotlib.legend.Legend at 0x7f58f98476a0>"
      ]
     },
     "execution_count": 25,
     "metadata": {},
     "output_type": "execute_result"
    },
    {
     "data": {
      "image/png": "[encoded data removed]",
      "text/plain": [
       "<Figure size 640x480 with 1 Axes>"
      ]
     },
     "metadata": {},
     "output_type": "display_data"
    }
   ],
   "source": [
    "r2 = np.zeros(nFreq)\n",
    "for i in range(nnFreq):\n",
    "    r2[4*i] = r2_1[i]\n",
    "    r2[4*i+1] = r2_2[i]\n",
    "    r2[4*i+2] = r2_3[i]\n",
    "    r2[4*i+3] = r2_4[i]\n",
    "\n",
    "rmse= np.zeros(nFreq)\n",
    "for i in range(nnFreq):\n",
    "    rmse[4*i] = rmse_1[i]\n",
    "    rmse[4*i+1] = rmse_2[i]\n",
    "    rmse[4*i+2] = rmse_3[i]\n",
    "    rmse[4*i+3] = rmse_4[i]\n",
    "\n",
    "mae = np.zeros(nFreq)\n",
    "for i in range(nnFreq):\n",
    "    mae[4*i] = mae_1[i]\n",
    "    mae[4*i+1] = mae_2[i]\n",
    "    mae[4*i+2] = mae_3[i]\n",
    "    mae[4*i+3] = mae_4[i]\n",
    "\n",
    "print(r2)\n",
    "print(rmse)\n",
    "print(mae)\n",
    "\n",
    "import matplotlib.pyplot as plt\n",
    "import numpy as np\n",
    "\n",
    "%matplotlib inline\n",
    "plt.figure()\n",
    "plt.plot(r2)\n",
    "plt.plot(rmse)\n",
    "plt.plot(mae)\n",
    "plt.legend(['r2', 'rmse', 'mae'], )"
   ]
  },
  {
   "cell_type": "markdown",
   "metadata": {},
   "source": [
    "- The No. 502 sample of the test dataset"
   ]
  },
  {
   "cell_type": "code",
   "execution_count": 38,
   "metadata": {},
   "outputs": [
    {
     "name": "stdout",
     "output_type": "stream",
     "text": [
      "[0.96511776 2.80358324 2.09660819]\n"
     ]
    }
   ],
   "source": [
    "from numpy import linalg as LA\n",
    "reader_test1 = MatReader(TEST_PATH)\n",
    "x_test1 = reader_test1.read_field('sig')\n",
    "y_test_rhoxy = reader_test1.read_field('rhoxy').numpy()\n",
    "y_test_rhoyx = reader_test1.read_field('rhoyx').numpy()\n",
    "\n",
    "err_single = np.zeros((3))\n",
    "\n",
    "# select sample\n",
    "i = 501\n",
    "\n",
    "xtestNew = x_test1[i,:,:]\n",
    "result = predict(xtestNew)\n",
    "rhoxy_predict = pow(10, result[:,:,0])\n",
    "rhoyx_predict = pow(10, result[:,:,1])\n",
    "\n",
    "data1 = y_test_rhoxy[i,::4,:]\n",
    "data2 = y_test_rhoyx[i,::4,:]\n",
    "data1 = pow(10, data1)\n",
    "data2 = pow(10, data2)\n",
    "\n",
    "rhoxy_predict_all = rhoxy_predict.flatten()\n",
    "rhoyx_predict_all = rhoyx_predict.flatten()\n",
    "\n",
    "y_test_rhoxy_all = data1.flatten()\n",
    "y_test_rhoyx_all = data2.flatten()\n",
    "    \n",
    "diff1 = (rhoxy_predict_all - y_test_rhoxy_all)/y_test_rhoxy_all*100\n",
    "# print(type(diff1))\n",
    "err1 = LA.norm(diff1, 2) / len(y_test_rhoxy_all) ** 0.5\n",
    "\n",
    "diff2 = (rhoyx_predict_all - y_test_rhoyx_all)/y_test_rhoyx_all*100\n",
    "err2 = LA.norm(diff2, 2) / len(y_test_rhoxy_all) ** 0.5\n",
    "# print(err1, err2)\n",
    "\n",
    "diff = np.power(diff1, 2) + np.power(diff2, 2)\n",
    "err = np.sqrt(np.sum(diff)) / (2*len(diff)) ** 0.5\n",
    "    \n",
    "err_single[0] = err1\n",
    "err_single[1] = err2\n",
    "err_single[2] = err\n",
    "\n",
    "EFDO3d_rhoxy_predict = rhoxy_predict\n",
    "EFDO3d_rhoyx_predict = rhoyx_predict\n",
    "\n",
    "EFDO3d_rhoxy_real = data1\n",
    "EFDO3d_rhoyx_real = data2\n",
    "\n",
    "print(err_single)"
   ]
  },
  {
   "cell_type": "markdown",
   "metadata": {},
   "source": [
    "- The No. $2501$ sample of the test dataset"
   ]
  },
  {
   "cell_type": "code",
   "execution_count": 26,
   "metadata": {},
   "outputs": [
    {
     "name": "stdout",
     "output_type": "stream",
     "text": [
      "[1.10058202 2.58996268 1.98987274]\n"
     ]
    }
   ],
   "source": [
    "from numpy import linalg as LA\n",
    "reader_test1 = MatReader(TEST_PATH)\n",
    "x_test1 = reader_test1.read_field('sig')\n",
    "y_test_rhoxy = reader_test1.read_field('rhoxy').numpy()\n",
    "y_test_rhoyx = reader_test1.read_field('rhoyx').numpy()\n",
    "\n",
    "err_single = np.zeros((3))\n",
    "\n",
    "# select sample\n",
    "i = 2500\n",
    "\n",
    "xtestNew = x_test1[i,:,:]\n",
    "result = predict(xtestNew)\n",
    "rhoxy_predict = pow(10, result[:,:,0])\n",
    "rhoyx_predict = pow(10, result[:,:,1])\n",
    "\n",
    "data1 = y_test_rhoxy[i,::4,:]\n",
    "data2 = y_test_rhoyx[i,::4,:]\n",
    "data1 = pow(10, data1)\n",
    "data2 = pow(10, data2)\n",
    "\n",
    "rhoxy_predict_all = rhoxy_predict.flatten()\n",
    "rhoyx_predict_all = rhoyx_predict.flatten()\n",
    "\n",
    "y_test_rhoxy_all = data1.flatten()\n",
    "y_test_rhoyx_all = data2.flatten()\n",
    "    \n",
    "diff1 = (rhoxy_predict_all - y_test_rhoxy_all)/y_test_rhoxy_all*100\n",
    "# print(type(diff1))\n",
    "err1 = LA.norm(diff1, 2) / len(y_test_rhoxy_all) ** 0.5\n",
    "\n",
    "diff2 = (rhoyx_predict_all - y_test_rhoyx_all)/y_test_rhoyx_all*100\n",
    "err2 = LA.norm(diff2, 2) / len(y_test_rhoxy_all) ** 0.5\n",
    "# print(err1, err2)\n",
    "\n",
    "diff = np.power(diff1, 2) + np.power(diff2, 2)\n",
    "err = np.sqrt(np.sum(diff)) / (2*len(diff)) ** 0.5\n",
    "    \n",
    "err_single[0] = err1\n",
    "err_single[1] = err2\n",
    "err_single[2] = err\n",
    "\n",
    "EFDO3d_rhoxy_predict = rhoxy_predict\n",
    "EFDO3d_rhoyx_predict = rhoyx_predict\n",
    "\n",
    "EFDO3d_rhoxy_real = data1\n",
    "EFDO3d_rhoyx_real = data2\n",
    "\n",
    "print(err_single)"
   ]
  },
  {
   "cell_type": "code",
   "execution_count": 27,
   "metadata": {},
   "outputs": [],
   "source": [
    "# save data to mat file\n",
    "import scipy.io as sio\n",
    "\n",
    "sio.savemat('EFDO3d_predict.mat', {'EFDO3d_rhoxy_predict':EFDO3d_rhoxy_predict, \n",
    "                                   'EFDO3d_rhoyx_predict':EFDO3d_rhoyx_predict, \n",
    "                                   'EFDO3d_rhoxy_real':EFDO3d_rhoxy_real, \n",
    "                                   'EFDO3d_rhoyx_real':EFDO3d_rhoyx_real})"
   ]
  },
  {
   "cell_type": "markdown",
   "metadata": {},
   "source": [
    "- The No. $2066$ sample of the test dataset"
   ]
  },
  {
   "cell_type": "code",
   "execution_count": 36,
   "metadata": {},
   "outputs": [
    {
     "name": "stdout",
     "output_type": "stream",
     "text": [
      "[ 1.81368294 23.90513956 16.95206632]\n"
     ]
    }
   ],
   "source": [
    "from numpy import linalg as LA\n",
    "reader_test1 = MatReader(TEST_PATH)\n",
    "x_test1 = reader_test1.read_field('sig')\n",
    "y_test_rhoxy = reader_test1.read_field('rhoxy').numpy()\n",
    "y_test_rhoyx = reader_test1.read_field('rhoyx').numpy()\n",
    "\n",
    "err_single = np.zeros((3))\n",
    "\n",
    "# select sample\n",
    "i = 2065\n",
    "\n",
    "xtestNew = x_test1[i,:,:]\n",
    "result = predict(xtestNew)\n",
    "rhoxy_predict = pow(10, result[:,:,0])\n",
    "rhoyx_predict = pow(10, result[:,:,1])\n",
    "\n",
    "data1 = y_test_rhoxy[i,::4,:]\n",
    "data2 = y_test_rhoyx[i,::4,:]\n",
    "data1 = pow(10, data1)\n",
    "data2 = pow(10, data2)\n",
    "\n",
    "rhoxy_predict_all = rhoxy_predict.flatten()\n",
    "rhoyx_predict_all = rhoyx_predict.flatten()\n",
    "\n",
    "y_test_rhoxy_all = data1.flatten()\n",
    "y_test_rhoyx_all = data2.flatten()\n",
    "    \n",
    "diff1 = (rhoxy_predict_all - y_test_rhoxy_all)/y_test_rhoxy_all*100\n",
    "# print(type(diff1))\n",
    "err1 = LA.norm(diff1, 2) / len(y_test_rhoxy_all) ** 0.5\n",
    "\n",
    "diff2 = (rhoyx_predict_all - y_test_rhoyx_all)/y_test_rhoyx_all*100\n",
    "err2 = LA.norm(diff2, 2) / len(y_test_rhoxy_all) ** 0.5\n",
    "# print(err1, err2)\n",
    "\n",
    "diff = np.power(diff1, 2) + np.power(diff2, 2)\n",
    "err = np.sqrt(np.sum(diff)) / (2*len(diff)) ** 0.5\n",
    "    \n",
    "err_single[0] = err1\n",
    "err_single[1] = err2\n",
    "err_single[2] = err\n",
    "\n",
    "EFDO3d_rhoxy_predict = rhoxy_predict\n",
    "EFDO3d_rhoyx_predict = rhoyx_predict\n",
    "\n",
    "EFDO3d_rhoxy_real = data1\n",
    "EFDO3d_rhoyx_real = data2\n",
    "\n",
    "print(err_single)"
   ]
  },
  {
   "cell_type": "code",
   "execution_count": 32,
   "metadata": {},
   "outputs": [],
   "source": [
    "# save data to mat file\n",
    "import scipy.io as sio\n",
    "\n",
    "sio.savemat('EFDO_predict_site.mat', {'EFDO_rhoxy_site_predict':EFDO3d_rhoxy_predict, \n",
    "                                   'EFDO_rhoyx_site_predict':EFDO3d_rhoyx_predict, \n",
    "                                   'EFDO_rhoxy_site_real':EFDO3d_rhoxy_real, \n",
    "                                   'EFDO_rhoyx_site_real':EFDO3d_rhoyx_real})"
   ]
  },
  {
   "cell_type": "code",
   "execution_count": 40,
   "metadata": {},
   "outputs": [],
   "source": [
    "# save data to mat file, used in Figure 11 to display some predicted models analysis\n",
    "import scipy.io as sio\n",
    "\n",
    "sig_test = reader_test1.read_field('sig')\n",
    "sig_1 = sig_test[501, :, :].numpy()\n",
    "sig_2 = sig_test[2065, :, :].numpy()\n",
    "\n",
    "sio.savemat('sigModelPred.mat', {'sig_1':sig_1, \n",
    "                             'sig_2':sig_2})"
   ]
  },
  {
   "cell_type": "markdown",
   "metadata": {},
   "source": [
    "- The whole error analysis (including all sites and receivers) of the validate dataset"
   ]
  },
  {
   "cell_type": "code",
   "execution_count": 42,
   "metadata": {},
   "outputs": [],
   "source": [
    "from numpy import linalg as LA\n",
    "reader_val = MatReader(VAL_PATH)\n",
    "x_val = reader_val.read_field('sig')\n",
    "y_test_rhoxy = reader_val.read_field('rhoxy').numpy()\n",
    "y_test_rhoyx = reader_val.read_field('rhoyx').numpy()\n",
    "nSample = x_val.shape[0]\n",
    "\n",
    "err_all = np.zeros((nSample, 3))\n",
    "for i in range(nSample):\n",
    "\n",
    "    xvalNew = x_val[i,:,:]\n",
    "    result = predict(xvalNew)\n",
    "    rhoxy_predict = pow(10, result[:,:,0])\n",
    "    rhoyx_predict = pow(10, result[:,:,1])\n",
    "\n",
    "    data1 = y_test_rhoxy[i,::4,:]\n",
    "    data2 = y_test_rhoyx[i,::4,:]\n",
    "    data1 = pow(10, data1)\n",
    "    data2 = pow(10, data2)\n",
    "\n",
    "    rhoxy_predict_all = rhoxy_predict.flatten()\n",
    "    rhoyx_predict_all = rhoyx_predict.flatten()\n",
    "\n",
    "    y_test_rhoxy_all = data1.flatten()\n",
    "    y_test_rhoyx_all = data2.flatten()\n",
    "    \n",
    "    diff1 = (rhoxy_predict_all - y_test_rhoxy_all)/y_test_rhoxy_all*100\n",
    "    err1 = LA.norm(diff1, 2) / len(y_test_rhoxy_all) ** 0.5\n",
    "\n",
    "    diff2 = (rhoyx_predict_all - y_test_rhoyx_all)/y_test_rhoyx_all*100\n",
    "    err2 = LA.norm(diff2, 2) / len(y_test_rhoxy_all) ** 0.5\n",
    "\n",
    "    diff = np.power(diff1, 2) + np.power(diff2, 2)\n",
    "    err = np.sqrt(np.sum(diff)) / (2*len(diff)) ** 0.5\n",
    "    \n",
    "    err_all[i, 0] = err1\n",
    "    err_all[i, 1] = err2\n",
    "    err_all[i, 2] = err"
   ]
  },
  {
   "cell_type": "code",
   "execution_count": 43,
   "metadata": {},
   "outputs": [
    {
     "data": {
      "text/plain": [
       "95"
      ]
     },
     "execution_count": 43,
     "metadata": {},
     "output_type": "execute_result"
    }
   ],
   "source": [
    "err_data_new = err_all[:,2]\n",
    "len(err_data_new[err_data_new>5].flatten())"
   ]
  },
  {
   "cell_type": "code",
   "execution_count": 44,
   "metadata": {},
   "outputs": [
    {
     "data": {
      "text/plain": [
       "2905"
      ]
     },
     "execution_count": 44,
     "metadata": {},
     "output_type": "execute_result"
    }
   ],
   "source": [
    "# <5% error\n",
    "nSample - len(err_data_new[err_data_new>5].flatten())"
   ]
  },
  {
   "cell_type": "code",
   "execution_count": 45,
   "metadata": {},
   "outputs": [
    {
     "name": "stdout",
     "output_type": "stream",
     "text": [
      "error < 5%:  96.83333333333334 %\n"
     ]
    }
   ],
   "source": [
    "print(\"error < 5%: \", (1-len(err_data_new[err_data_new>5].flatten())/nSample)*100, \"%\")"
   ]
  },
  {
   "cell_type": "code",
   "execution_count": 46,
   "metadata": {},
   "outputs": [
    {
     "data": {
      "text/plain": [
       "2994"
      ]
     },
     "execution_count": 46,
     "metadata": {},
     "output_type": "execute_result"
    }
   ],
   "source": [
    "# <10% error\n",
    "nSample - len(err_data_new[err_data_new>10].flatten())"
   ]
  },
  {
   "cell_type": "code",
   "execution_count": 47,
   "metadata": {},
   "outputs": [
    {
     "name": "stdout",
     "output_type": "stream",
     "text": [
      "error < 10%:  99.8 %\n"
     ]
    }
   ],
   "source": [
    "print(\"error < 10%: \", (1-len(err_data_new[err_data_new>10].flatten())/nSample)*100, \"%\")"
   ]
  },
  {
   "cell_type": "code",
   "execution_count": 49,
   "metadata": {},
   "outputs": [
    {
     "data": {
      "text/plain": [
       "[<matplotlib.lines.Line2D at 0x7f5bacf39100>]"
      ]
     },
     "execution_count": 49,
     "metadata": {},
     "output_type": "execute_result"
    },
    {
     "data": {
      "image/png": "[encoded data removed]",
      "text/plain": [
       "<Figure size 640x480 with 1 Axes>"
      ]
     },
     "metadata": {},
     "output_type": "display_data"
    }
   ],
   "source": [
    "import matplotlib.pyplot as plt\n",
    "import numpy as np\n",
    "\n",
    "%matplotlib inline\n",
    "plt.figure()\n",
    "plt.plot(err_data_new, 'b*')"
   ]
  },
  {
   "attachments": {},
   "cell_type": "markdown",
   "metadata": {},
   "source": [
    "- The whole error analysis (including all sites and receivers) of the test dataset"
   ]
  },
  {
   "cell_type": "code",
   "execution_count": 29,
   "metadata": {},
   "outputs": [],
   "source": [
    "from numpy import linalg as LA\n",
    "reader_test1 = MatReader(TEST_PATH)\n",
    "x_test1 = reader_test1.read_field('sig')\n",
    "y_test_rhoxy = reader_test1.read_field('rhoxy').numpy()\n",
    "y_test_rhoyx = reader_test1.read_field('rhoyx').numpy()\n",
    "nSample = x_test1.shape[0]\n",
    "\n",
    "err_all = np.zeros((nSample, 3))\n",
    "for i in range(nSample):\n",
    "\n",
    "    xtestNew = x_test1[i,:,:]\n",
    "    result = predict(xtestNew)\n",
    "    rhoxy_predict = pow(10, result[:,:,0])\n",
    "    rhoyx_predict = pow(10, result[:,:,1])\n",
    "\n",
    "    data1 = y_test_rhoxy[i,::4,:]\n",
    "    data2 = y_test_rhoyx[i,::4,:]\n",
    "    data1 = pow(10, data1)\n",
    "    data2 = pow(10, data2)\n",
    "\n",
    "    rhoxy_predict_all = rhoxy_predict.flatten()\n",
    "    rhoyx_predict_all = rhoyx_predict.flatten()\n",
    "\n",
    "    y_test_rhoxy_all = data1.flatten()\n",
    "    y_test_rhoyx_all = data2.flatten()\n",
    "    \n",
    "    diff1 = (rhoxy_predict_all - y_test_rhoxy_all)/y_test_rhoxy_all*100\n",
    "    err1 = LA.norm(diff1, 2) / len(y_test_rhoxy_all) ** 0.5\n",
    "\n",
    "    diff2 = (rhoyx_predict_all - y_test_rhoyx_all)/y_test_rhoyx_all*100\n",
    "    err2 = LA.norm(diff2, 2) / len(y_test_rhoxy_all) ** 0.5\n",
    "\n",
    "    diff = np.power(diff1, 2) + np.power(diff2, 2)\n",
    "    err = np.sqrt(np.sum(diff)) / (2*len(diff)) ** 0.5\n",
    "    \n",
    "    err_all[i, 0] = err1\n",
    "    err_all[i, 1] = err2\n",
    "    err_all[i, 2] = err\n"
   ]
  },
  {
   "cell_type": "code",
   "execution_count": 30,
   "metadata": {},
   "outputs": [
    {
     "data": {
      "text/plain": [
       "104"
      ]
     },
     "execution_count": 30,
     "metadata": {},
     "output_type": "execute_result"
    }
   ],
   "source": [
    "err_data_new = err_all[:,2]\n",
    "len(err_data_new[err_data_new>5].flatten())"
   ]
  },
  {
   "cell_type": "code",
   "execution_count": 31,
   "metadata": {},
   "outputs": [
    {
     "data": {
      "text/plain": [
       "2896"
      ]
     },
     "execution_count": 31,
     "metadata": {},
     "output_type": "execute_result"
    }
   ],
   "source": [
    "# <5% error\n",
    "nSample - len(err_data_new[err_data_new>5].flatten())"
   ]
  },
  {
   "cell_type": "code",
   "execution_count": 32,
   "metadata": {},
   "outputs": [
    {
     "name": "stdout",
     "output_type": "stream",
     "text": [
      "error < 5%:  96.53333333333333 %\n"
     ]
    }
   ],
   "source": [
    "print(\"error < 5%: \", (1-len(err_data_new[err_data_new>5].flatten())/nSample)*100, \"%\")"
   ]
  },
  {
   "cell_type": "code",
   "execution_count": 33,
   "metadata": {},
   "outputs": [
    {
     "data": {
      "text/plain": [
       "2992"
      ]
     },
     "execution_count": 33,
     "metadata": {},
     "output_type": "execute_result"
    }
   ],
   "source": [
    "# <10% error\n",
    "nSample - len(err_data_new[err_data_new>10].flatten())"
   ]
  },
  {
   "cell_type": "code",
   "execution_count": 34,
   "metadata": {},
   "outputs": [
    {
     "name": "stdout",
     "output_type": "stream",
     "text": [
      "error < 10%:  99.73333333333333 %\n"
     ]
    }
   ],
   "source": [
    "print(\"error < 10%: \", (1-len(err_data_new[err_data_new>10].flatten())/nSample)*100, \"%\")"
   ]
  },
  {
   "cell_type": "code",
   "execution_count": 35,
   "metadata": {},
   "outputs": [
    {
     "data": {
      "text/plain": [
       "[<matplotlib.lines.Line2D at 0x7f5a6abc1190>]"
      ]
     },
     "execution_count": 35,
     "metadata": {},
     "output_type": "execute_result"
    },
    {
     "data": {
      "image/png": "[encoded data removed]",
      "text/plain": [
       "<Figure size 640x480 with 1 Axes>"
      ]
     },
     "metadata": {},
     "output_type": "display_data"
    }
   ],
   "source": [
    "import matplotlib.pyplot as plt\n",
    "import numpy as np\n",
    "\n",
    "%matplotlib inline\n",
    "plt.figure()\n",
    "plt.plot(err_data_new, 'bo')"
   ]
  }
 ],
 "metadata": {
  "kernelspec": {
   "display_name": "torch",
   "language": "python",
   "name": "python3"
  },
  "language_info": {
   "codemirror_mode": {
    "name": "ipython",
    "version": 3
   },
   "file_extension": ".py",
   "mimetype": "text/x-python",
   "name": "python",
   "nbconvert_exporter": "python",
   "pygments_lexer": "ipython3",
   "version": "3.8.16"
  },
  "orig_nbformat": 4
 },
 "nbformat": 4,
 "nbformat_minor": 2
}
